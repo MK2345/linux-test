{
 "cells": [
  {
   "cell_type": "code",
   "execution_count": 1,
   "metadata": {},
   "outputs": [
    {
     "data": {
      "text/plain": [
       "'1.19.5'"
      ]
     },
     "execution_count": 1,
     "metadata": {},
     "output_type": "execute_result"
    }
   ],
   "source": [
    "import numpy\n",
    "numpy.version.version"
   ]
  },
  {
   "cell_type": "code",
   "execution_count": 2,
   "metadata": {},
   "outputs": [
    {
     "name": "stdout",
     "output_type": "stream",
     "text": [
      "Collecting image_registration\n",
      "  Downloading https://files.pythonhosted.org/packages/2a/6c/e1b96a53e6f3a6b2afa10623b1e5f9195a54bf07a7dd06ce0cc0da50b6ee/image_registration-0.2.4.tar.gz (2.8MB)\n",
      "Collecting FITS_tools (from image_registration)\n",
      "  Downloading https://files.pythonhosted.org/packages/a5/89/ca54811cd9782af6c366e6ca310a691678af3554d00c4298ba8f1d138d00/FITS_tools-0.2.tar.gz (167kB)\n",
      "Requirement already satisfied: matplotlib in c:\\users\\martins-lapt\\appdata\\local\\conda\\conda\\envs\\python36\\lib\\site-packages (from image_registration) (3.0.2)\n",
      "Collecting astropy (from image_registration)\n",
      "  Downloading https://files.pythonhosted.org/packages/83/54/efcd43656b51d0df8b9424c0eac48042d3f909b1064dda463420c79136c0/astropy-4.1-cp36-cp36m-win_amd64.whl (6.5MB)\n",
      "Requirement already satisfied: numpy>=1.10.0 in c:\\users\\martins-lapt\\appdata\\local\\conda\\conda\\envs\\python36\\lib\\site-packages (from matplotlib->image_registration) (1.15.4)\n",
      "Requirement already satisfied: cycler>=0.10 in c:\\users\\martins-lapt\\appdata\\local\\conda\\conda\\envs\\python36\\lib\\site-packages (from matplotlib->image_registration) (0.10.0)\n",
      "Requirement already satisfied: kiwisolver>=1.0.1 in c:\\users\\martins-lapt\\appdata\\local\\conda\\conda\\envs\\python36\\lib\\site-packages (from matplotlib->image_registration) (1.0.1)\n",
      "Requirement already satisfied: pyparsing!=2.0.4,!=2.1.2,!=2.1.6,>=2.0.1 in c:\\users\\martins-lapt\\appdata\\local\\conda\\conda\\envs\\python36\\lib\\site-packages (from matplotlib->image_registration) (2.3.1)\n",
      "Requirement already satisfied: python-dateutil>=2.1 in c:\\users\\martins-lapt\\appdata\\local\\conda\\conda\\envs\\python36\\lib\\site-packages (from matplotlib->image_registration) (2.8.0)\n",
      "Requirement already satisfied: six in c:\\users\\martins-lapt\\appdata\\local\\conda\\conda\\envs\\python36\\lib\\site-packages (from cycler>=0.10->matplotlib->image_registration) (1.12.0)\n",
      "Requirement already satisfied: setuptools in c:\\users\\martins-lapt\\appdata\\local\\conda\\conda\\envs\\python36\\lib\\site-packages (from kiwisolver>=1.0.1->matplotlib->image_registration) (40.8.0)\n",
      "Building wheels for collected packages: image-registration, FITS-tools\n",
      "  Building wheel for image-registration (setup.py): started\n",
      "  Building wheel for image-registration (setup.py): finished with status 'done'\n",
      "  Stored in directory: C:\\Users\\Martins-Lapt\\AppData\\Local\\pip\\Cache\\wheels\\8b\\4e\\3e\\13f68494af1d6bd06b0900b8dc16677c6910d230f0daae09c7\n",
      "  Building wheel for FITS-tools (setup.py): started\n",
      "  Building wheel for FITS-tools (setup.py): finished with status 'done'\n",
      "  Stored in directory: C:\\Users\\Martins-Lapt\\AppData\\Local\\pip\\Cache\\wheels\\54\\e7\\c6\\1f4f333e6a0957bb7a7ca050225b89b643275661f2863984aa\n",
      "Successfully built image-registration FITS-tools\n",
      "Installing collected packages: astropy, FITS-tools, image-registration\n",
      "Successfully installed FITS-tools-0.2 astropy-4.1 image-registration-0.2.4\n"
     ]
    },
    {
     "name": "stderr",
     "output_type": "stream",
     "text": [
      "astropy 4.1 has requirement numpy>=1.16, but you'll have numpy 1.15.4 which is incompatible.\n"
     ]
    }
   ],
   "source": [
    "!pip install image_registration"
   ]
  },
  {
   "cell_type": "code",
   "execution_count": 11,
   "metadata": {},
   "outputs": [
    {
     "name": "stderr",
     "output_type": "stream",
     "text": [
      "Der Befehl \"pip3\" ist entweder falsch geschrieben oder\n",
      "konnte nicht gefunden werden.\n"
     ]
    }
   ],
   "source": [
    "!pip install numpy --upgrade"
   ]
  },
  {
   "cell_type": "code",
   "execution_count": 4,
   "metadata": {},
   "outputs": [
    {
     "name": "stdout",
     "output_type": "stream",
     "text": [
      "Collecting pytest\n",
      "  Downloading https://files.pythonhosted.org/packages/a1/59/6821e900592fbe261f19d67e4def0cb27e52ef8ed16d9922c144961cc1ee/pytest-6.2.4-py3-none-any.whl (280kB)\n",
      "Collecting py>=1.8.2 (from pytest)\n",
      "  Downloading https://files.pythonhosted.org/packages/67/32/6fe01cfc3d1a27c92fdbcdfc3f67856da8cbadf0dd9f2e18055202b2dc62/py-1.10.0-py2.py3-none-any.whl (97kB)\n",
      "Collecting atomicwrites>=1.0; sys_platform == \"win32\" (from pytest)\n",
      "  Downloading https://files.pythonhosted.org/packages/2c/a0/da5f49008ec6e9a658dbf5d7310a4debd397bce0b4db03cf8a410066bb87/atomicwrites-1.4.0-py2.py3-none-any.whl\n",
      "Collecting packaging (from pytest)\n",
      "  Downloading https://files.pythonhosted.org/packages/3e/89/7ea760b4daa42653ece2380531c90f64788d979110a2ab51049d92f408af/packaging-20.9-py2.py3-none-any.whl (40kB)\n",
      "Collecting toml (from pytest)\n",
      "  Downloading https://files.pythonhosted.org/packages/44/6f/7120676b6d73228c96e17f1f794d8ab046fc910d781c8d151120c3f1569e/toml-0.10.2-py2.py3-none-any.whl\n",
      "Collecting pluggy<1.0.0a1,>=0.12 (from pytest)\n",
      "  Downloading https://files.pythonhosted.org/packages/a0/28/85c7aa31b80d150b772fbe4a229487bc6644da9ccb7e427dd8cc60cb8a62/pluggy-0.13.1-py2.py3-none-any.whl\n",
      "Collecting importlib-metadata>=0.12; python_version < \"3.8\" (from pytest)\n",
      "  Downloading https://files.pythonhosted.org/packages/8e/e2/49966924c93909d47612bb47d911448140a2f6c1390aec2f4c1afbe3748f/importlib_metadata-4.0.1-py3-none-any.whl\n",
      "Requirement already satisfied: colorama; sys_platform == \"win32\" in c:\\users\\martins-lapt\\appdata\\local\\conda\\conda\\envs\\python36\\lib\\site-packages (from pytest) (0.4.1)\n",
      "Collecting attrs>=19.2.0 (from pytest)\n",
      "  Downloading https://files.pythonhosted.org/packages/20/a9/ba6f1cd1a1517ff022b35acd6a7e4246371dfab08b8e42b829b6d07913cc/attrs-21.2.0-py2.py3-none-any.whl (53kB)\n",
      "Collecting iniconfig (from pytest)\n",
      "  Downloading https://files.pythonhosted.org/packages/9b/dd/b3c12c6d707058fa947864b67f0c4e0c39ef8610988d7baea9578f3c48f3/iniconfig-1.1.1-py2.py3-none-any.whl\n",
      "Requirement already satisfied: pyparsing>=2.0.2 in c:\\users\\martins-lapt\\appdata\\local\\conda\\conda\\envs\\python36\\lib\\site-packages (from packaging->pytest) (2.3.1)\n",
      "Collecting zipp>=0.5 (from importlib-metadata>=0.12; python_version < \"3.8\"->pytest)\n",
      "  Downloading https://files.pythonhosted.org/packages/0f/8c/715c54e9e34c0c4820f616a913a7de3337d0cd79074dd1bed4dd840f16ae/zipp-3.4.1-py3-none-any.whl\n",
      "Collecting typing-extensions>=3.6.4; python_version < \"3.8\" (from importlib-metadata>=0.12; python_version < \"3.8\"->pytest)\n",
      "  Downloading https://files.pythonhosted.org/packages/2e/35/6c4fff5ab443b57116cb1aad46421fb719bed2825664e8fe77d66d99bcbc/typing_extensions-3.10.0.0-py3-none-any.whl\n",
      "Installing collected packages: py, atomicwrites, packaging, toml, zipp, typing-extensions, importlib-metadata, pluggy, attrs, iniconfig, pytest\n",
      "Successfully installed atomicwrites-1.4.0 attrs-21.2.0 importlib-metadata-4.0.1 iniconfig-1.1.1 packaging-20.9 pluggy-0.13.1 py-1.10.0 pytest-6.2.4 toml-0.10.2 typing-extensions-3.10.0.0 zipp-3.4.1\n",
      "Note: you may need to restart the kernel to use updated packages.\n"
     ]
    }
   ],
   "source": [
    "pip install pytest"
   ]
  },
  {
   "cell_type": "code",
   "execution_count": 3,
   "metadata": {},
   "outputs": [
    {
     "name": "stdout",
     "output_type": "stream",
     "text": [
      "Collecting scikit-image\n",
      "  Downloading https://files.pythonhosted.org/packages/09/e2/39fd2aad9858c764bc260acdf4bb63f8096415ee2b782cc2f7ea47a12c79/scikit_image-0.17.2-cp36-cp36m-win_amd64.whl (11.5MB)\n",
      "Requirement already satisfied, skipping upgrade: imageio>=2.3.0 in c:\\users\\martins-lapt\\appdata\\local\\conda\\conda\\envs\\python36\\lib\\site-packages (from scikit-image) (2.5.0)\n",
      "Requirement already satisfied, skipping upgrade: numpy>=1.15.1 in c:\\users\\martins-lapt\\appdata\\local\\conda\\conda\\envs\\python36\\lib\\site-packages (from scikit-image) (1.19.5)\n",
      "Collecting PyWavelets>=1.1.1 (from scikit-image)\n",
      "  Downloading https://files.pythonhosted.org/packages/30/9f/60c3b80bcefc7e3cbc76c0925e05159312cae0f3e8bf822cf50ba30b5312/PyWavelets-1.1.1-cp36-cp36m-win_amd64.whl (4.2MB)\n",
      "Collecting tifffile>=2019.7.26 (from scikit-image)\n",
      "  Downloading https://files.pythonhosted.org/packages/42/6b/93a8ee61c6fbe20fa9c17928bd3b80484902b7fd454cecaffba42f5052cb/tifffile-2020.9.3-py3-none-any.whl (148kB)\n",
      "Requirement already satisfied, skipping upgrade: pillow!=7.1.0,!=7.1.1,>=4.3.0 in c:\\users\\martins-lapt\\appdata\\local\\conda\\conda\\envs\\python36\\lib\\site-packages (from scikit-image) (5.4.1)\n",
      "Requirement already satisfied, skipping upgrade: scipy>=1.0.1 in c:\\users\\martins-lapt\\appdata\\local\\conda\\conda\\envs\\python36\\lib\\site-packages (from scikit-image) (1.2.1)\n",
      "Requirement already satisfied, skipping upgrade: matplotlib!=3.0.0,>=2.0.0 in c:\\users\\martins-lapt\\appdata\\local\\conda\\conda\\envs\\python36\\lib\\site-packages (from scikit-image) (3.0.2)\n",
      "Requirement already satisfied, skipping upgrade: networkx>=2.0 in c:\\users\\martins-lapt\\appdata\\local\\conda\\conda\\envs\\python36\\lib\\site-packages (from scikit-image) (2.2)\n",
      "Requirement already satisfied, skipping upgrade: cycler>=0.10 in c:\\users\\martins-lapt\\appdata\\local\\conda\\conda\\envs\\python36\\lib\\site-packages (from matplotlib!=3.0.0,>=2.0.0->scikit-image) (0.10.0)\n",
      "Requirement already satisfied, skipping upgrade: kiwisolver>=1.0.1 in c:\\users\\martins-lapt\\appdata\\local\\conda\\conda\\envs\\python36\\lib\\site-packages (from matplotlib!=3.0.0,>=2.0.0->scikit-image) (1.0.1)\n",
      "Requirement already satisfied, skipping upgrade: pyparsing!=2.0.4,!=2.1.2,!=2.1.6,>=2.0.1 in c:\\users\\martins-lapt\\appdata\\local\\conda\\conda\\envs\\python36\\lib\\site-packages (from matplotlib!=3.0.0,>=2.0.0->scikit-image) (2.3.1)\n",
      "Requirement already satisfied, skipping upgrade: python-dateutil>=2.1 in c:\\users\\martins-lapt\\appdata\\local\\conda\\conda\\envs\\python36\\lib\\site-packages (from matplotlib!=3.0.0,>=2.0.0->scikit-image) (2.8.0)\n",
      "Requirement already satisfied, skipping upgrade: decorator>=4.3.0 in c:\\users\\martins-lapt\\appdata\\local\\conda\\conda\\envs\\python36\\lib\\site-packages (from networkx>=2.0->scikit-image) (4.3.2)\n",
      "Requirement already satisfied, skipping upgrade: six in c:\\users\\martins-lapt\\appdata\\local\\conda\\conda\\envs\\python36\\lib\\site-packages (from cycler>=0.10->matplotlib!=3.0.0,>=2.0.0->scikit-image) (1.12.0)\n",
      "Requirement already satisfied, skipping upgrade: setuptools in c:\\users\\martins-lapt\\appdata\\local\\conda\\conda\\envs\\python36\\lib\\site-packages (from kiwisolver>=1.0.1->matplotlib!=3.0.0,>=2.0.0->scikit-image) (40.8.0)\n",
      "Installing collected packages: PyWavelets, tifffile, scikit-image\n",
      "  Found existing installation: PyWavelets 1.0.1\n",
      "    Uninstalling PyWavelets-1.0.1:\n",
      "      Successfully uninstalled PyWavelets-1.0.1\n",
      "  Found existing installation: scikit-image 0.14.1\n",
      "    Uninstalling scikit-image-0.14.1:\n",
      "      Successfully uninstalled scikit-image-0.14.1\n",
      "Note: you may need to restart the kernel to use updated packages.\n"
     ]
    },
    {
     "name": "stderr",
     "output_type": "stream",
     "text": [
      "Could not install packages due to an EnvironmentError: [WinError 5] Zugriff verweigert: 'c:\\\\users\\\\martins-lapt\\\\appdata\\\\local\\\\conda\\\\conda\\\\envs\\\\python36\\\\lib\\\\site-packages\\\\~kimage\\\\_shared\\\\geometry.cp36-win_amd64.pyd'\n",
      "Consider using the `--user` option or check the permissions.\n",
      "\n"
     ]
    }
   ],
   "source": [
    "pip install scikit-image --upgrade"
   ]
  },
  {
   "cell_type": "code",
   "execution_count": 1,
   "metadata": {},
   "outputs": [],
   "source": [
    "\"\"\"\n",
    "https://www.youtube.com/watch?v=TyV-9K_8w20\n",
    "\"\"\"\n",
    "import numpy as np\n",
    "from skimage import io\n",
    "from image_registration import chi2_shift"
   ]
  },
  {
   "cell_type": "code",
   "execution_count": 3,
   "metadata": {},
   "outputs": [],
   "source": [
    "image = io.imread(\"C://Users//Martins-Lapt//Desktop//Bilder//BSE_Image.jpg\")\n",
    "offset_image = io.imread(\"C://Users//Martins-Lapt//Desktop//Bilder//BSE_transl.jpg\")\n",
    "# offset image translated by (-17.45, 18.75) in y and x\n"
   ]
  },
  {
   "cell_type": "code",
   "execution_count": 5,
   "metadata": {},
   "outputs": [
    {
     "ename": "ValueError",
     "evalue": "Images must have same shape.",
     "output_type": "error",
     "traceback": [
      "\u001b[1;31m---------------------------------------------------------------------------\u001b[0m",
      "\u001b[1;31mValueError\u001b[0m                                Traceback (most recent call last)",
      "\u001b[1;32m<ipython-input-5-0249b9d62d8e>\u001b[0m in \u001b[0;36m<module>\u001b[1;34m\u001b[0m\n\u001b[0;32m      1\u001b[0m \u001b[0mnoise\u001b[0m \u001b[1;33m=\u001b[0m \u001b[1;36m0.1\u001b[0m\u001b[1;33m\u001b[0m\u001b[1;33m\u001b[0m\u001b[0m\n\u001b[0;32m      2\u001b[0m xoff, yoff, exoff, eyoff = chi2_shift(image, offset_image, noise, \n\u001b[1;32m----> 3\u001b[1;33m                                       return_error=True, upsample_factor='auto')\n\u001b[0m",
      "\u001b[1;32m~\\AppData\\Local\\conda\\conda\\envs\\python36\\lib\\site-packages\\image_registration\\chi2_shifts.py\u001b[0m in \u001b[0;36mchi2_shift\u001b[1;34m(im1, im2, err, upsample_factor, boundary, nthreads, use_numpy_fft, zeromean, nfitted, verbose, return_error, return_chi2array, max_auto_size, max_nsig)\u001b[0m\n\u001b[0;32m    132\u001b[0m                                        \u001b[0mnthreads\u001b[0m\u001b[1;33m=\u001b[0m\u001b[0mnthreads\u001b[0m\u001b[1;33m,\u001b[0m \u001b[0mzeromean\u001b[0m\u001b[1;33m=\u001b[0m\u001b[0mzeromean\u001b[0m\u001b[1;33m,\u001b[0m\u001b[1;33m\u001b[0m\u001b[1;33m\u001b[0m\u001b[0m\n\u001b[0;32m    133\u001b[0m                                        \u001b[0muse_numpy_fft\u001b[0m\u001b[1;33m=\u001b[0m\u001b[0muse_numpy_fft\u001b[0m\u001b[1;33m,\u001b[0m\u001b[1;33m\u001b[0m\u001b[1;33m\u001b[0m\u001b[0m\n\u001b[1;32m--> 134\u001b[1;33m                                        return_all=True, reduced=False)\n\u001b[0m\u001b[0;32m    135\u001b[0m     \u001b[0mymax\u001b[0m\u001b[1;33m,\u001b[0m \u001b[0mxmax\u001b[0m \u001b[1;33m=\u001b[0m \u001b[0mnp\u001b[0m\u001b[1;33m.\u001b[0m\u001b[0munravel_index\u001b[0m\u001b[1;33m(\u001b[0m\u001b[0mchi2\u001b[0m\u001b[1;33m.\u001b[0m\u001b[0margmin\u001b[0m\u001b[1;33m(\u001b[0m\u001b[1;33m)\u001b[0m\u001b[1;33m,\u001b[0m \u001b[0mchi2\u001b[0m\u001b[1;33m.\u001b[0m\u001b[0mshape\u001b[0m\u001b[1;33m)\u001b[0m\u001b[1;33m\u001b[0m\u001b[1;33m\u001b[0m\u001b[0m\n\u001b[0;32m    136\u001b[0m \u001b[1;33m\u001b[0m\u001b[0m\n",
      "\u001b[1;32m~\\AppData\\Local\\conda\\conda\\envs\\python36\\lib\\site-packages\\image_registration\\chi2_shifts.py\u001b[0m in \u001b[0;36mchi2n_map\u001b[1;34m(im1, im2, err, boundary, nthreads, zeromean, use_numpy_fft, return_all, reduced)\u001b[0m\n\u001b[0;32m    450\u001b[0m \u001b[1;33m\u001b[0m\u001b[0m\n\u001b[0;32m    451\u001b[0m     \u001b[1;32mif\u001b[0m \u001b[1;32mnot\u001b[0m \u001b[0mim1\u001b[0m\u001b[1;33m.\u001b[0m\u001b[0mshape\u001b[0m \u001b[1;33m==\u001b[0m \u001b[0mim2\u001b[0m\u001b[1;33m.\u001b[0m\u001b[0mshape\u001b[0m\u001b[1;33m:\u001b[0m\u001b[1;33m\u001b[0m\u001b[1;33m\u001b[0m\u001b[0m\n\u001b[1;32m--> 452\u001b[1;33m         \u001b[1;32mraise\u001b[0m \u001b[0mValueError\u001b[0m\u001b[1;33m(\u001b[0m\u001b[1;34m\"Images must have same shape.\"\u001b[0m\u001b[1;33m)\u001b[0m\u001b[1;33m\u001b[0m\u001b[1;33m\u001b[0m\u001b[0m\n\u001b[0m\u001b[0;32m    453\u001b[0m \u001b[1;33m\u001b[0m\u001b[0m\n\u001b[0;32m    454\u001b[0m     \u001b[1;32mif\u001b[0m \u001b[0mzeromean\u001b[0m\u001b[1;33m:\u001b[0m\u001b[1;33m\u001b[0m\u001b[1;33m\u001b[0m\u001b[0m\n",
      "\u001b[1;31mValueError\u001b[0m: Images must have same shape."
     ]
    }
   ],
   "source": [
    "noise = 0.1\n",
    "xoff, yoff, exoff, eyoff = chi2_shift(image, offset_image, noise, \n",
    "                                      return_error=True, upsample_factor='auto')"
   ]
  },
  {
   "cell_type": "code",
   "execution_count": null,
   "metadata": {},
   "outputs": [],
   "source": []
  }
 ],
 "metadata": {
  "kernelspec": {
   "display_name": "Python 3",
   "language": "python",
   "name": "python3"
  },
  "language_info": {
   "codemirror_mode": {
    "name": "ipython",
    "version": 3
   },
   "file_extension": ".py",
   "mimetype": "text/x-python",
   "name": "python",
   "nbconvert_exporter": "python",
   "pygments_lexer": "ipython3",
   "version": "3.6.8"
  }
 },
 "nbformat": 4,
 "nbformat_minor": 2
}
